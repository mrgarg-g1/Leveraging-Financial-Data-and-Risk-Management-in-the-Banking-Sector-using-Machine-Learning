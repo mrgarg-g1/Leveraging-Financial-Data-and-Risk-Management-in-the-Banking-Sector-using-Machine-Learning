{
 "cells": [
  {
   "cell_type": "markdown",
   "id": "46bb3bf1",
   "metadata": {
    "papermill": {
     "duration": 0.012037,
     "end_time": "2023-10-18T15:38:32.136720",
     "exception": false,
     "start_time": "2023-10-18T15:38:32.124683",
     "status": "completed"
    },
    "tags": []
   },
   "source": [
    "# Bank Marketing"
   ]
  },
  {
   "cell_type": "code",
   "execution_count": 3,
   "id": "ad4508d9",
   "metadata": {
    "execution": {
     "iopub.execute_input": "2023-10-18T15:38:32.161493Z",
     "iopub.status.busy": "2023-10-18T15:38:32.161016Z",
     "iopub.status.idle": "2023-10-18T15:38:34.554263Z",
     "shell.execute_reply": "2023-10-18T15:38:34.552573Z"
    },
    "papermill": {
     "duration": 2.408735,
     "end_time": "2023-10-18T15:38:34.556975",
     "exception": false,
     "start_time": "2023-10-18T15:38:32.148240",
     "status": "completed"
    },
    "tags": []
   },
   "outputs": [],
   "source": [
    "import warnings\n",
    "warnings.filterwarnings('ignore')\n",
    "\n",
    "import numpy as np\n",
    "import pandas as pd\n",
    "\n",
    "\n",
    "import matplotlib.pyplot as plt\n",
    "import seaborn as sns"
   ]
  },
  {
   "cell_type": "code",
   "execution_count": 4,
   "id": "0658a0bf",
   "metadata": {
    "execution": {
     "iopub.execute_input": "2023-10-18T15:38:34.584530Z",
     "iopub.status.busy": "2023-10-18T15:38:34.583864Z",
     "iopub.status.idle": "2023-10-18T15:38:34.590861Z",
     "shell.execute_reply": "2023-10-18T15:38:34.589402Z"
    },
    "papermill": {
     "duration": 0.02361,
     "end_time": "2023-10-18T15:38:34.593710",
     "exception": false,
     "start_time": "2023-10-18T15:38:34.570100",
     "status": "completed"
    },
    "tags": []
   },
   "outputs": [],
   "source": [
    "RANDOM_STATE = 3"
   ]
  },
  {
   "cell_type": "code",
   "execution_count": 5,
   "id": "76f08762",
   "metadata": {
    "execution": {
     "iopub.execute_input": "2023-10-18T15:38:34.618931Z",
     "iopub.status.busy": "2023-10-18T15:38:34.618519Z",
     "iopub.status.idle": "2023-10-18T15:38:34.903302Z",
     "shell.execute_reply": "2023-10-18T15:38:34.901571Z"
    },
    "papermill": {
     "duration": 0.301,
     "end_time": "2023-10-18T15:38:34.906533",
     "exception": false,
     "start_time": "2023-10-18T15:38:34.605533",
     "status": "completed"
    },
    "tags": []
   },
   "outputs": [
    {
     "name": "stdout",
     "output_type": "stream",
     "text": [
      "(45211, 17)\n"
     ]
    },
    {
     "data": {
      "text/html": [
       "<div>\n",
       "<style scoped>\n",
       "    .dataframe tbody tr th:only-of-type {\n",
       "        vertical-align: middle;\n",
       "    }\n",
       "\n",
       "    .dataframe tbody tr th {\n",
       "        vertical-align: top;\n",
       "    }\n",
       "\n",
       "    .dataframe thead th {\n",
       "        text-align: right;\n",
       "    }\n",
       "</style>\n",
       "<table border=\"1\" class=\"dataframe\">\n",
       "  <thead>\n",
       "    <tr style=\"text-align: right;\">\n",
       "      <th></th>\n",
       "      <th>age</th>\n",
       "      <th>job</th>\n",
       "      <th>marital</th>\n",
       "      <th>education</th>\n",
       "      <th>default</th>\n",
       "      <th>balance</th>\n",
       "      <th>housing</th>\n",
       "      <th>loan</th>\n",
       "      <th>contact</th>\n",
       "      <th>day</th>\n",
       "      <th>month</th>\n",
       "      <th>duration</th>\n",
       "      <th>campaign</th>\n",
       "      <th>pdays</th>\n",
       "      <th>previous</th>\n",
       "      <th>poutcome</th>\n",
       "      <th>Target</th>\n",
       "    </tr>\n",
       "  </thead>\n",
       "  <tbody>\n",
       "    <tr>\n",
       "      <th>0</th>\n",
       "      <td>58</td>\n",
       "      <td>management</td>\n",
       "      <td>married</td>\n",
       "      <td>tertiary</td>\n",
       "      <td>no</td>\n",
       "      <td>2143</td>\n",
       "      <td>yes</td>\n",
       "      <td>no</td>\n",
       "      <td>unknown</td>\n",
       "      <td>5</td>\n",
       "      <td>may</td>\n",
       "      <td>261</td>\n",
       "      <td>1</td>\n",
       "      <td>-1</td>\n",
       "      <td>0</td>\n",
       "      <td>unknown</td>\n",
       "      <td>no</td>\n",
       "    </tr>\n",
       "    <tr>\n",
       "      <th>1</th>\n",
       "      <td>44</td>\n",
       "      <td>technician</td>\n",
       "      <td>single</td>\n",
       "      <td>secondary</td>\n",
       "      <td>no</td>\n",
       "      <td>29</td>\n",
       "      <td>yes</td>\n",
       "      <td>no</td>\n",
       "      <td>unknown</td>\n",
       "      <td>5</td>\n",
       "      <td>may</td>\n",
       "      <td>151</td>\n",
       "      <td>1</td>\n",
       "      <td>-1</td>\n",
       "      <td>0</td>\n",
       "      <td>unknown</td>\n",
       "      <td>no</td>\n",
       "    </tr>\n",
       "  </tbody>\n",
       "</table>\n",
       "</div>"
      ],
      "text/plain": [
       "   age         job  marital  education default  balance housing loan  contact  \\\n",
       "0   58  management  married   tertiary      no     2143     yes   no  unknown   \n",
       "1   44  technician   single  secondary      no       29     yes   no  unknown   \n",
       "\n",
       "   day month  duration  campaign  pdays  previous poutcome Target  \n",
       "0    5   may       261         1     -1         0  unknown     no  \n",
       "1    5   may       151         1     -1         0  unknown     no  "
      ]
     },
     "execution_count": 5,
     "metadata": {},
     "output_type": "execute_result"
    }
   ],
   "source": [
    "df = pd.read_csv('/Users/gargd/Downloads/bank-full.csv', sep=',')\n",
    "\n",
    "print(df.shape)\n",
    "df.head(2)"
   ]
  },
  {
   "cell_type": "code",
   "execution_count": 6,
   "id": "dd067df0",
   "metadata": {
    "execution": {
     "iopub.execute_input": "2023-10-18T15:38:34.938677Z",
     "iopub.status.busy": "2023-10-18T15:38:34.938215Z",
     "iopub.status.idle": "2023-10-18T15:38:34.996019Z",
     "shell.execute_reply": "2023-10-18T15:38:34.994406Z"
    },
    "papermill": {
     "duration": 0.076854,
     "end_time": "2023-10-18T15:38:34.999987",
     "exception": false,
     "start_time": "2023-10-18T15:38:34.923133",
     "status": "completed"
    },
    "tags": []
   },
   "outputs": [
    {
     "name": "stdout",
     "output_type": "stream",
     "text": [
      "<class 'pandas.core.frame.DataFrame'>\n",
      "RangeIndex: 45211 entries, 0 to 45210\n",
      "Data columns (total 17 columns):\n",
      " #   Column     Non-Null Count  Dtype \n",
      "---  ------     --------------  ----- \n",
      " 0   age        45211 non-null  int64 \n",
      " 1   job        45211 non-null  object\n",
      " 2   marital    45211 non-null  object\n",
      " 3   education  45211 non-null  object\n",
      " 4   default    45211 non-null  object\n",
      " 5   balance    45211 non-null  int64 \n",
      " 6   housing    45211 non-null  object\n",
      " 7   loan       45211 non-null  object\n",
      " 8   contact    45211 non-null  object\n",
      " 9   day        45211 non-null  int64 \n",
      " 10  month      45211 non-null  object\n",
      " 11  duration   45211 non-null  int64 \n",
      " 12  campaign   45211 non-null  int64 \n",
      " 13  pdays      45211 non-null  int64 \n",
      " 14  previous   45211 non-null  int64 \n",
      " 15  poutcome   45211 non-null  object\n",
      " 16  Target     45211 non-null  object\n",
      "dtypes: int64(7), object(10)\n",
      "memory usage: 5.9+ MB\n"
     ]
    }
   ],
   "source": [
    "df.info()"
   ]
  },
  {
   "cell_type": "markdown",
   "id": "e37858a2",
   "metadata": {
    "papermill": {
     "duration": 0.01149,
     "end_time": "2023-10-18T15:38:35.032425",
     "exception": false,
     "start_time": "2023-10-18T15:38:35.020935",
     "status": "completed"
    },
    "tags": []
   },
   "source": [
    "All features are not normally distributed:"
   ]
  },
  {
   "cell_type": "code",
   "execution_count": 7,
   "id": "84db5fb3",
   "metadata": {
    "execution": {
     "iopub.execute_input": "2023-10-18T15:38:35.057653Z",
     "iopub.status.busy": "2023-10-18T15:38:35.057271Z",
     "iopub.status.idle": "2023-10-18T15:38:35.121009Z",
     "shell.execute_reply": "2023-10-18T15:38:35.119671Z"
    },
    "papermill": {
     "duration": 0.079377,
     "end_time": "2023-10-18T15:38:35.123499",
     "exception": false,
     "start_time": "2023-10-18T15:38:35.044122",
     "status": "completed"
    },
    "tags": []
   },
   "outputs": [
    {
     "data": {
      "text/html": [
       "<div>\n",
       "<style scoped>\n",
       "    .dataframe tbody tr th:only-of-type {\n",
       "        vertical-align: middle;\n",
       "    }\n",
       "\n",
       "    .dataframe tbody tr th {\n",
       "        vertical-align: top;\n",
       "    }\n",
       "\n",
       "    .dataframe thead th {\n",
       "        text-align: right;\n",
       "    }\n",
       "</style>\n",
       "<table border=\"1\" class=\"dataframe\">\n",
       "  <thead>\n",
       "    <tr style=\"text-align: right;\">\n",
       "      <th></th>\n",
       "      <th>age</th>\n",
       "      <th>balance</th>\n",
       "      <th>day</th>\n",
       "      <th>duration</th>\n",
       "      <th>campaign</th>\n",
       "      <th>pdays</th>\n",
       "      <th>previous</th>\n",
       "    </tr>\n",
       "  </thead>\n",
       "  <tbody>\n",
       "    <tr>\n",
       "      <th>count</th>\n",
       "      <td>45211.000000</td>\n",
       "      <td>45211.000000</td>\n",
       "      <td>45211.000000</td>\n",
       "      <td>45211.000000</td>\n",
       "      <td>45211.000000</td>\n",
       "      <td>45211.000000</td>\n",
       "      <td>45211.000000</td>\n",
       "    </tr>\n",
       "    <tr>\n",
       "      <th>mean</th>\n",
       "      <td>40.936210</td>\n",
       "      <td>1362.272058</td>\n",
       "      <td>15.806419</td>\n",
       "      <td>258.163080</td>\n",
       "      <td>2.763841</td>\n",
       "      <td>40.197828</td>\n",
       "      <td>0.580323</td>\n",
       "    </tr>\n",
       "    <tr>\n",
       "      <th>std</th>\n",
       "      <td>10.618762</td>\n",
       "      <td>3044.765829</td>\n",
       "      <td>8.322476</td>\n",
       "      <td>257.527812</td>\n",
       "      <td>3.098021</td>\n",
       "      <td>100.128746</td>\n",
       "      <td>2.303441</td>\n",
       "    </tr>\n",
       "    <tr>\n",
       "      <th>min</th>\n",
       "      <td>18.000000</td>\n",
       "      <td>-8019.000000</td>\n",
       "      <td>1.000000</td>\n",
       "      <td>0.000000</td>\n",
       "      <td>1.000000</td>\n",
       "      <td>-1.000000</td>\n",
       "      <td>0.000000</td>\n",
       "    </tr>\n",
       "    <tr>\n",
       "      <th>25%</th>\n",
       "      <td>33.000000</td>\n",
       "      <td>72.000000</td>\n",
       "      <td>8.000000</td>\n",
       "      <td>103.000000</td>\n",
       "      <td>1.000000</td>\n",
       "      <td>-1.000000</td>\n",
       "      <td>0.000000</td>\n",
       "    </tr>\n",
       "    <tr>\n",
       "      <th>50%</th>\n",
       "      <td>39.000000</td>\n",
       "      <td>448.000000</td>\n",
       "      <td>16.000000</td>\n",
       "      <td>180.000000</td>\n",
       "      <td>2.000000</td>\n",
       "      <td>-1.000000</td>\n",
       "      <td>0.000000</td>\n",
       "    </tr>\n",
       "    <tr>\n",
       "      <th>75%</th>\n",
       "      <td>48.000000</td>\n",
       "      <td>1428.000000</td>\n",
       "      <td>21.000000</td>\n",
       "      <td>319.000000</td>\n",
       "      <td>3.000000</td>\n",
       "      <td>-1.000000</td>\n",
       "      <td>0.000000</td>\n",
       "    </tr>\n",
       "    <tr>\n",
       "      <th>max</th>\n",
       "      <td>95.000000</td>\n",
       "      <td>102127.000000</td>\n",
       "      <td>31.000000</td>\n",
       "      <td>4918.000000</td>\n",
       "      <td>63.000000</td>\n",
       "      <td>871.000000</td>\n",
       "      <td>275.000000</td>\n",
       "    </tr>\n",
       "    <tr>\n",
       "      <th>skew</th>\n",
       "      <td>0.684818</td>\n",
       "      <td>8.360308</td>\n",
       "      <td>0.093079</td>\n",
       "      <td>3.144318</td>\n",
       "      <td>4.898650</td>\n",
       "      <td>2.615715</td>\n",
       "      <td>41.846454</td>\n",
       "    </tr>\n",
       "    <tr>\n",
       "      <th>kurt</th>\n",
       "      <td>0.319570</td>\n",
       "      <td>140.751547</td>\n",
       "      <td>-1.059897</td>\n",
       "      <td>18.153915</td>\n",
       "      <td>39.249651</td>\n",
       "      <td>6.935195</td>\n",
       "      <td>4506.860660</td>\n",
       "    </tr>\n",
       "  </tbody>\n",
       "</table>\n",
       "</div>"
      ],
      "text/plain": [
       "                age        balance           day      duration      campaign  \\\n",
       "count  45211.000000   45211.000000  45211.000000  45211.000000  45211.000000   \n",
       "mean      40.936210    1362.272058     15.806419    258.163080      2.763841   \n",
       "std       10.618762    3044.765829      8.322476    257.527812      3.098021   \n",
       "min       18.000000   -8019.000000      1.000000      0.000000      1.000000   \n",
       "25%       33.000000      72.000000      8.000000    103.000000      1.000000   \n",
       "50%       39.000000     448.000000     16.000000    180.000000      2.000000   \n",
       "75%       48.000000    1428.000000     21.000000    319.000000      3.000000   \n",
       "max       95.000000  102127.000000     31.000000   4918.000000     63.000000   \n",
       "skew       0.684818       8.360308      0.093079      3.144318      4.898650   \n",
       "kurt       0.319570     140.751547     -1.059897     18.153915     39.249651   \n",
       "\n",
       "              pdays      previous  \n",
       "count  45211.000000  45211.000000  \n",
       "mean      40.197828      0.580323  \n",
       "std      100.128746      2.303441  \n",
       "min       -1.000000      0.000000  \n",
       "25%       -1.000000      0.000000  \n",
       "50%       -1.000000      0.000000  \n",
       "75%       -1.000000      0.000000  \n",
       "max      871.000000    275.000000  \n",
       "skew       2.615715     41.846454  \n",
       "kurt       6.935195   4506.860660  "
      ]
     },
     "execution_count": 7,
     "metadata": {},
     "output_type": "execute_result"
    }
   ],
   "source": [
    "def describe(df):\n",
    "    return pd.concat([df.describe().T,\n",
    "                      df.skew().rename('skew'),\n",
    "                      df.kurt().rename('kurt'),\n",
    "                     ], axis=1).T\n",
    "\n",
    "describe(df.select_dtypes(include=['int64']))"
   ]
  },
  {
   "cell_type": "code",
   "execution_count": 8,
   "id": "bc1b1157",
   "metadata": {
    "execution": {
     "iopub.execute_input": "2023-10-18T15:38:35.149756Z",
     "iopub.status.busy": "2023-10-18T15:38:35.149280Z",
     "iopub.status.idle": "2023-10-18T15:38:35.240700Z",
     "shell.execute_reply": "2023-10-18T15:38:35.239063Z"
    },
    "papermill": {
     "duration": 0.107423,
     "end_time": "2023-10-18T15:38:35.243119",
     "exception": false,
     "start_time": "2023-10-18T15:38:35.135696",
     "status": "completed"
    },
    "tags": []
   },
   "outputs": [
    {
     "data": {
      "text/html": [
       "<div>\n",
       "<style scoped>\n",
       "    .dataframe tbody tr th:only-of-type {\n",
       "        vertical-align: middle;\n",
       "    }\n",
       "\n",
       "    .dataframe tbody tr th {\n",
       "        vertical-align: top;\n",
       "    }\n",
       "\n",
       "    .dataframe thead th {\n",
       "        text-align: right;\n",
       "    }\n",
       "</style>\n",
       "<table border=\"1\" class=\"dataframe\">\n",
       "  <thead>\n",
       "    <tr style=\"text-align: right;\">\n",
       "      <th></th>\n",
       "      <th>job</th>\n",
       "      <th>marital</th>\n",
       "      <th>education</th>\n",
       "      <th>default</th>\n",
       "      <th>housing</th>\n",
       "      <th>loan</th>\n",
       "      <th>contact</th>\n",
       "      <th>month</th>\n",
       "      <th>poutcome</th>\n",
       "      <th>Target</th>\n",
       "    </tr>\n",
       "  </thead>\n",
       "  <tbody>\n",
       "    <tr>\n",
       "      <th>count</th>\n",
       "      <td>45211</td>\n",
       "      <td>45211</td>\n",
       "      <td>45211</td>\n",
       "      <td>45211</td>\n",
       "      <td>45211</td>\n",
       "      <td>45211</td>\n",
       "      <td>45211</td>\n",
       "      <td>45211</td>\n",
       "      <td>45211</td>\n",
       "      <td>45211</td>\n",
       "    </tr>\n",
       "    <tr>\n",
       "      <th>unique</th>\n",
       "      <td>12</td>\n",
       "      <td>3</td>\n",
       "      <td>4</td>\n",
       "      <td>2</td>\n",
       "      <td>2</td>\n",
       "      <td>2</td>\n",
       "      <td>3</td>\n",
       "      <td>12</td>\n",
       "      <td>4</td>\n",
       "      <td>2</td>\n",
       "    </tr>\n",
       "    <tr>\n",
       "      <th>top</th>\n",
       "      <td>blue-collar</td>\n",
       "      <td>married</td>\n",
       "      <td>secondary</td>\n",
       "      <td>no</td>\n",
       "      <td>yes</td>\n",
       "      <td>no</td>\n",
       "      <td>cellular</td>\n",
       "      <td>may</td>\n",
       "      <td>unknown</td>\n",
       "      <td>no</td>\n",
       "    </tr>\n",
       "    <tr>\n",
       "      <th>freq</th>\n",
       "      <td>9732</td>\n",
       "      <td>27214</td>\n",
       "      <td>23202</td>\n",
       "      <td>44396</td>\n",
       "      <td>25130</td>\n",
       "      <td>37967</td>\n",
       "      <td>29285</td>\n",
       "      <td>13766</td>\n",
       "      <td>36959</td>\n",
       "      <td>39922</td>\n",
       "    </tr>\n",
       "  </tbody>\n",
       "</table>\n",
       "</div>"
      ],
      "text/plain": [
       "                job  marital  education default housing   loan   contact  \\\n",
       "count         45211    45211      45211   45211   45211  45211     45211   \n",
       "unique           12        3          4       2       2      2         3   \n",
       "top     blue-collar  married  secondary      no     yes     no  cellular   \n",
       "freq           9732    27214      23202   44396   25130  37967     29285   \n",
       "\n",
       "        month poutcome Target  \n",
       "count   45211    45211  45211  \n",
       "unique     12        4      2  \n",
       "top       may  unknown     no  \n",
       "freq    13766    36959  39922  "
      ]
     },
     "execution_count": 8,
     "metadata": {},
     "output_type": "execute_result"
    }
   ],
   "source": [
    "df.describe(include='O')"
   ]
  },
  {
   "cell_type": "code",
   "execution_count": 9,
   "id": "d02ada87",
   "metadata": {
    "execution": {
     "iopub.execute_input": "2023-10-18T15:38:35.270601Z",
     "iopub.status.busy": "2023-10-18T15:38:35.270151Z",
     "iopub.status.idle": "2023-10-18T15:38:35.301517Z",
     "shell.execute_reply": "2023-10-18T15:38:35.300273Z"
    },
    "papermill": {
     "duration": 0.048927,
     "end_time": "2023-10-18T15:38:35.304470",
     "exception": false,
     "start_time": "2023-10-18T15:38:35.255543",
     "status": "completed"
    },
    "tags": []
   },
   "outputs": [
    {
     "data": {
      "text/plain": [
       "age          0\n",
       "job          0\n",
       "marital      0\n",
       "education    0\n",
       "default      0\n",
       "balance      0\n",
       "housing      0\n",
       "loan         0\n",
       "contact      0\n",
       "day          0\n",
       "month        0\n",
       "duration     0\n",
       "campaign     0\n",
       "pdays        0\n",
       "previous     0\n",
       "poutcome     0\n",
       "Target       0\n",
       "dtype: int64"
      ]
     },
     "execution_count": 9,
     "metadata": {},
     "output_type": "execute_result"
    }
   ],
   "source": [
    "df.isna().sum()"
   ]
  },
  {
   "cell_type": "code",
   "execution_count": 10,
   "id": "f0305e8c",
   "metadata": {
    "execution": {
     "iopub.execute_input": "2023-10-18T15:38:35.332727Z",
     "iopub.status.busy": "2023-10-18T15:38:35.332337Z",
     "iopub.status.idle": "2023-10-18T15:38:35.371158Z",
     "shell.execute_reply": "2023-10-18T15:38:35.369690Z"
    },
    "papermill": {
     "duration": 0.056543,
     "end_time": "2023-10-18T15:38:35.374033",
     "exception": false,
     "start_time": "2023-10-18T15:38:35.317490",
     "status": "completed"
    },
    "tags": []
   },
   "outputs": [
    {
     "data": {
      "text/plain": [
       "age            77\n",
       "job            12\n",
       "marital         3\n",
       "education       4\n",
       "default         2\n",
       "balance      7168\n",
       "housing         2\n",
       "loan            2\n",
       "contact         3\n",
       "day            31\n",
       "month          12\n",
       "duration     1573\n",
       "campaign       48\n",
       "pdays         559\n",
       "previous       41\n",
       "poutcome        4\n",
       "Target          2\n",
       "dtype: int64"
      ]
     },
     "execution_count": 10,
     "metadata": {},
     "output_type": "execute_result"
    }
   ],
   "source": [
    "df.nunique()"
   ]
  },
  {
   "cell_type": "markdown",
   "id": "43cb0f60",
   "metadata": {
    "papermill": {
     "duration": 0.012614,
     "end_time": "2023-10-18T15:38:35.400368",
     "exception": false,
     "start_time": "2023-10-18T15:38:35.387754",
     "status": "completed"
    },
    "tags": []
   },
   "source": [
    "In categorical signs there are omissions under the guise of `unknown'. Let's look at the percentage of their content in the data:"
   ]
  },
  {
   "cell_type": "code",
   "execution_count": 11,
   "id": "d3c55151",
   "metadata": {
    "execution": {
     "iopub.execute_input": "2023-10-18T15:38:35.502386Z",
     "iopub.status.busy": "2023-10-18T15:38:35.501896Z",
     "iopub.status.idle": "2023-10-18T15:38:35.588603Z",
     "shell.execute_reply": "2023-10-18T15:38:35.587298Z"
    },
    "papermill": {
     "duration": 0.178115,
     "end_time": "2023-10-18T15:38:35.591007",
     "exception": false,
     "start_time": "2023-10-18T15:38:35.412892",
     "status": "completed"
    },
    "tags": []
   },
   "outputs": [
    {
     "data": {
      "text/plain": [
       "job           0.637013\n",
       "marital       0.000000\n",
       "education     4.107407\n",
       "default       0.000000\n",
       "housing       0.000000\n",
       "loan          0.000000\n",
       "contact      28.798301\n",
       "month         0.000000\n",
       "poutcome     81.747805\n",
       "Target        0.000000\n",
       "dtype: float64"
      ]
     },
     "execution_count": 11,
     "metadata": {},
     "output_type": "execute_result"
    }
   ],
   "source": [
    "df_missings = df.copy().select_dtypes(include=['object'])\n",
    "df_missings = df_missings.replace('unknown', np.nan)\n",
    "\n",
    "df_missings.isna().mean() * 100"
   ]
  },
  {
   "cell_type": "markdown",
   "id": "f4414bbf",
   "metadata": {
    "papermill": {
     "duration": 0.0137,
     "end_time": "2023-10-18T15:38:35.619003",
     "exception": false,
     "start_time": "2023-10-18T15:38:35.605303",
     "status": "completed"
    },
    "tags": []
   },
   "source": [
    "We see that in the columns `poutcome` and `contact` 82% and 29% are missing, respectively."
   ]
  },
  {
   "cell_type": "markdown",
   "id": "f810f593",
   "metadata": {
    "papermill": {
     "duration": 0.01294,
     "end_time": "2023-10-18T15:38:35.645680",
     "exception": false,
     "start_time": "2023-10-18T15:38:35.632740",
     "status": "completed"
    },
    "tags": []
   },
   "source": [
    "### Preprocessing"
   ]
  },
  {
   "cell_type": "markdown",
   "id": "554077f0",
   "metadata": {
    "papermill": {
     "duration": 0.012319,
     "end_time": "2023-10-18T15:38:35.670645",
     "exception": false,
     "start_time": "2023-10-18T15:38:35.658326",
     "status": "completed"
    },
    "tags": []
   },
   "source": [
    "I think it's worth deleting the rows that have the value `unknown`, because in our case the data is not balanced and the model may not predict the result correctly in the future."
   ]
  },
  {
   "cell_type": "code",
   "execution_count": 12,
   "id": "6e2d828c",
   "metadata": {
    "execution": {
     "iopub.execute_input": "2023-10-18T15:38:35.698814Z",
     "iopub.status.busy": "2023-10-18T15:38:35.698082Z",
     "iopub.status.idle": "2023-10-18T15:38:35.726645Z",
     "shell.execute_reply": "2023-10-18T15:38:35.725262Z"
    },
    "papermill": {
     "duration": 0.045716,
     "end_time": "2023-10-18T15:38:35.729332",
     "exception": false,
     "start_time": "2023-10-18T15:38:35.683616",
     "status": "completed"
    },
    "tags": []
   },
   "outputs": [
    {
     "data": {
      "text/plain": [
       "(7842, 17)"
      ]
     },
     "execution_count": 12,
     "metadata": {},
     "output_type": "execute_result"
    }
   ],
   "source": [
    "df = df[\n",
    "    (df.education != 'unknown') &\n",
    "    (df.poutcome != 'unknown') &\n",
    "    (df.job != 'unknown') &\n",
    "    (df.contact != 'unknown')\n",
    "]\n",
    "\n",
    "df.shape"
   ]
  },
  {
   "cell_type": "markdown",
   "id": "de854ad2",
   "metadata": {
    "papermill": {
     "duration": 0.012427,
     "end_time": "2023-10-18T15:38:35.755003",
     "exception": false,
     "start_time": "2023-10-18T15:38:35.742576",
     "status": "completed"
    },
    "tags": []
   },
   "source": [
    "I encode all categorical features using the usual LabelEncoder. You can try others."
   ]
  },
  {
   "cell_type": "code",
   "execution_count": 13,
   "id": "130ecc3a",
   "metadata": {
    "execution": {
     "iopub.execute_input": "2023-10-18T15:38:35.782680Z",
     "iopub.status.busy": "2023-10-18T15:38:35.781918Z",
     "iopub.status.idle": "2023-10-18T15:38:36.037908Z",
     "shell.execute_reply": "2023-10-18T15:38:36.036226Z"
    },
    "papermill": {
     "duration": 0.273154,
     "end_time": "2023-10-18T15:38:36.040878",
     "exception": false,
     "start_time": "2023-10-18T15:38:35.767724",
     "status": "completed"
    },
    "tags": []
   },
   "outputs": [],
   "source": [
    "from sklearn.preprocessing import LabelEncoder\n",
    "\n",
    "df_copy = df.copy()\n",
    "\n",
    "label_encoder = LabelEncoder()\n",
    "for col in df_copy.select_dtypes([\"object\", \"category\"]):\n",
    "    df_copy[col] = label_encoder.fit_transform(df_copy[col])"
   ]
  },
  {
   "cell_type": "markdown",
   "id": "3cbecff9",
   "metadata": {
    "papermill": {
     "duration": 0.013139,
     "end_time": "2023-10-18T15:38:36.067658",
     "exception": false,
     "start_time": "2023-10-18T15:38:36.054519",
     "status": "completed"
    },
    "tags": []
   },
   "source": [
    "### EDA"
   ]
  },
  {
   "cell_type": "code",
   "execution_count": 14,
   "id": "d6bedd9b",
   "metadata": {
    "execution": {
     "iopub.execute_input": "2023-10-18T15:38:36.096462Z",
     "iopub.status.busy": "2023-10-18T15:38:36.095967Z",
     "iopub.status.idle": "2023-10-18T15:38:36.102833Z",
     "shell.execute_reply": "2023-10-18T15:38:36.101625Z"
    },
    "papermill": {
     "duration": 0.02455,
     "end_time": "2023-10-18T15:38:36.105485",
     "exception": false,
     "start_time": "2023-10-18T15:38:36.080935",
     "status": "completed"
    },
    "tags": []
   },
   "outputs": [],
   "source": [
    "num_cols = [x for x in df.columns if df[x].dtype != 'object']\n",
    "cat_cols = [x for x in df.columns if df[x].dtype == 'object']"
   ]
  },
  {
   "cell_type": "markdown",
   "id": "81cdae84",
   "metadata": {
    "papermill": {
     "duration": 0.013417,
     "end_time": "2023-10-18T15:38:36.134146",
     "exception": false,
     "start_time": "2023-10-18T15:38:36.120729",
     "status": "completed"
    },
    "tags": []
   },
   "source": [
    "The graph below shows that all the features do not have a linear relationship. Thanks to the “duration” attribute, you can notice that there is a fuzzy but boundary separating the target attribute when people answered “yes” or “no”. This is logical, because if a person listens to a deposit offer for a long time, then he is most likely interested in the offer. In other signs the connection is poorly visible. This graph also shows that all distributions are not normally distributed."
   ]
  },
  {
   "cell_type": "code",
   "execution_count": null,
   "id": "886a8cc6",
   "metadata": {
    "execution": {
     "iopub.execute_input": "2023-10-18T15:38:36.164172Z",
     "iopub.status.busy": "2023-10-18T15:38:36.163719Z",
     "iopub.status.idle": "2023-10-18T15:39:23.113123Z",
     "shell.execute_reply": "2023-10-18T15:39:23.112186Z"
    },
    "papermill": {
     "duration": 47.028871,
     "end_time": "2023-10-18T15:39:23.177466",
     "exception": false,
     "start_time": "2023-10-18T15:38:36.148595",
     "status": "completed"
    },
    "tags": []
   },
   "outputs": [],
   "source": [
    "sns.pairplot(df, hue='Target')"
   ]
  },
  {
   "cell_type": "markdown",
   "id": "8a04945a",
   "metadata": {
    "papermill": {
     "duration": 0.039789,
     "end_time": "2023-10-18T15:39:23.258824",
     "exception": false,
     "start_time": "2023-10-18T15:39:23.219035",
     "status": "completed"
    },
    "tags": []
   },
   "source": [
    "The graph below shows that some categorical features have a greater influence on the target feature than others. For example, people with the “management” profession more often say “yes” to the target attribute than people with the “blue-collar” profession. It is also clear that there is a significant imbalance in the target attribute."
   ]
  },
  {
   "cell_type": "code",
   "execution_count": null,
   "id": "f2720758",
   "metadata": {
    "execution": {
     "iopub.execute_input": "2023-10-18T15:39:23.341410Z",
     "iopub.status.busy": "2023-10-18T15:39:23.340946Z",
     "iopub.status.idle": "2023-10-18T15:39:25.777583Z",
     "shell.execute_reply": "2023-10-18T15:39:25.775752Z"
    },
    "papermill": {
     "duration": 2.48119,
     "end_time": "2023-10-18T15:39:25.780438",
     "exception": false,
     "start_time": "2023-10-18T15:39:23.299248",
     "status": "completed"
    },
    "tags": []
   },
   "outputs": [],
   "source": [
    "fig, ax= plt.subplots(nrows=5, ncols=2, figsize= (14,16))\n",
    "sns.countplot(y='job', hue='Target', data=df, ax=ax[0][0])\n",
    "sns.countplot(y='marital', hue='Target', data=df, ax=ax[0][1])\n",
    "sns.countplot(y='education', hue='Target', data=df, ax=ax[1][0])\n",
    "sns.countplot(y='default', hue='Target', data=df, ax=ax[1][1])\n",
    "sns.countplot(y='housing', hue='Target', data=df, ax=ax[2][0])\n",
    "sns.countplot(y='loan', hue='Target', data=df, ax=ax[2][1])\n",
    "sns.countplot(y='contact', hue='Target', data=df, ax=ax[3][0])\n",
    "sns.countplot(y='month', hue='Target', data=df, ax=ax[3][1])\n",
    "sns.countplot(y='poutcome', hue='Target', data=df, ax=ax[4][0])\n",
    "sns.countplot(y='Target', data=df, ax=ax[4][1]);"
   ]
  },
  {
   "cell_type": "markdown",
   "id": "405dc7e8",
   "metadata": {
    "papermill": {
     "duration": 0.040508,
     "end_time": "2023-10-18T15:39:25.868940",
     "exception": false,
     "start_time": "2023-10-18T15:39:25.828432",
     "status": "completed"
    },
    "tags": []
   },
   "source": [
    "From the graph below you can see that 3 numerical characteristics are quite noticeably separated by the target characteristic (columns “duration”, “campaign” and “pdays”)."
   ]
  },
  {
   "cell_type": "code",
   "execution_count": null,
   "id": "b8aa186c",
   "metadata": {
    "execution": {
     "iopub.execute_input": "2023-10-18T15:39:25.951445Z",
     "iopub.status.busy": "2023-10-18T15:39:25.950733Z",
     "iopub.status.idle": "2023-10-18T15:39:27.255648Z",
     "shell.execute_reply": "2023-10-18T15:39:27.254134Z"
    },
    "papermill": {
     "duration": 1.349456,
     "end_time": "2023-10-18T15:39:27.258506",
     "exception": false,
     "start_time": "2023-10-18T15:39:25.909050",
     "status": "completed"
    },
    "tags": []
   },
   "outputs": [],
   "source": [
    "fig, ax = plt.subplots(nrows=4, ncols=2, figsize=(11,14))\n",
    "sns.boxplot(x='Target', y='age', data=df, ax=ax[0][0])\n",
    "sns.boxplot(x='Target', y='balance', data=df, ax=ax[0][1])\n",
    "sns.boxplot(x='Target', y='day', data=df, ax=ax[1][0])\n",
    "sns.boxplot(x='Target', y='duration', data=df, ax=ax[1][1])\n",
    "sns.boxplot(x='Target', y='campaign', data=df, ax=ax[2][0])\n",
    "sns.boxplot(x='Target', y='pdays', data=df, ax=ax[2][1])\n",
    "sns.boxplot(x='Target', y='previous', data=df, ax=ax[3][0]);"
   ]
  },
  {
   "cell_type": "markdown",
   "id": "f8158c03",
   "metadata": {
    "papermill": {
     "duration": 0.042573,
     "end_time": "2023-10-18T15:39:27.347628",
     "exception": false,
     "start_time": "2023-10-18T15:39:27.305055",
     "status": "completed"
    },
    "tags": []
   },
   "source": [
    "Based on the graph below, you can see that “housing”, “duration”, “pdays” and “poutcome” interact quite strongly with the target attribute."
   ]
  },
  {
   "cell_type": "code",
   "execution_count": null,
   "id": "ec1a7400",
   "metadata": {
    "execution": {
     "iopub.execute_input": "2023-10-18T15:39:27.441783Z",
     "iopub.status.busy": "2023-10-18T15:39:27.441119Z",
     "iopub.status.idle": "2023-10-18T15:39:28.317789Z",
     "shell.execute_reply": "2023-10-18T15:39:28.316456Z"
    },
    "papermill": {
     "duration": 0.930338,
     "end_time": "2023-10-18T15:39:28.320960",
     "exception": false,
     "start_time": "2023-10-18T15:39:27.390622",
     "status": "completed"
    },
    "tags": []
   },
   "outputs": [],
   "source": [
    "corr = df_copy.corr()\n",
    "\n",
    "# Generate a mask for the upper triangle\n",
    "mask = np.triu(np.ones_like(corr, dtype=bool))\n",
    "\n",
    "# Set up the matplotlib figure\n",
    "f, ax = plt.subplots(figsize=(11, 9))\n",
    "\n",
    "# Generate a custom diverging colormap\n",
    "cmap = sns.diverging_palette(230, 20, as_cmap=True)\n",
    "\n",
    "# Draw the heatmap with the mask and correct aspect ratio\n",
    "sns.heatmap(corr, mask=mask, cmap=cmap, vmin=-1, vmax=1, center=0,\n",
    "            square=True, linewidths=.5, cbar_kws={\"shrink\": .5}, annot=True, fmt='.1g')"
   ]
  },
  {
   "cell_type": "markdown",
   "id": "39fff4d2",
   "metadata": {
    "papermill": {
     "duration": 0.047573,
     "end_time": "2023-10-18T15:39:28.423287",
     "exception": false,
     "start_time": "2023-10-18T15:39:28.375714",
     "status": "completed"
    },
    "tags": []
   },
   "source": [
    "### Feature Engineering"
   ]
  },
  {
   "cell_type": "code",
   "execution_count": 15,
   "id": "ae3d8144",
   "metadata": {
    "execution": {
     "iopub.execute_input": "2023-10-18T15:39:28.518633Z",
     "iopub.status.busy": "2023-10-18T15:39:28.517814Z",
     "iopub.status.idle": "2023-10-18T15:39:28.524955Z",
     "shell.execute_reply": "2023-10-18T15:39:28.523744Z"
    },
    "papermill": {
     "duration": 0.05869,
     "end_time": "2023-10-18T15:39:28.527832",
     "exception": false,
     "start_time": "2023-10-18T15:39:28.469142",
     "status": "completed"
    },
    "tags": []
   },
   "outputs": [],
   "source": [
    "X = df_copy.drop(['Target', 'duration'], axis=1)\n",
    "y = df_copy['Target']"
   ]
  },
  {
   "cell_type": "markdown",
   "id": "5a3e9dea",
   "metadata": {
    "papermill": {
     "duration": 0.045833,
     "end_time": "2023-10-18T15:39:28.620473",
     "exception": false,
     "start_time": "2023-10-18T15:39:28.574640",
     "status": "completed"
    },
    "tags": []
   },
   "source": [
    "Mutual Information"
   ]
  },
  {
   "cell_type": "code",
   "execution_count": 16,
   "id": "b25ebdd1",
   "metadata": {
    "execution": {
     "iopub.execute_input": "2023-10-18T15:39:28.715507Z",
     "iopub.status.busy": "2023-10-18T15:39:28.715098Z",
     "iopub.status.idle": "2023-10-18T15:39:29.124255Z",
     "shell.execute_reply": "2023-10-18T15:39:29.123101Z"
    },
    "papermill": {
     "duration": 0.461324,
     "end_time": "2023-10-18T15:39:29.127601",
     "exception": false,
     "start_time": "2023-10-18T15:39:28.666277",
     "status": "completed"
    },
    "tags": []
   },
   "outputs": [],
   "source": [
    "from sklearn.feature_selection import mutual_info_classif\n",
    "\n",
    "\n",
    "def make_mi_scores(x, y):\n",
    "    \"\"\" Вычислить показатель MI для каждого признака типа int. \"\"\"\n",
    "\n",
    "    x = x.copy()\n",
    "    for colname in x.select_dtypes([\"object\", \"category\"]):\n",
    "        x[colname], _ = x[colname].factorize()\n",
    "\n",
    "    # All discrete features should now have integer dtypes\n",
    "    discrete_features = [pd.api.types.is_integer_dtype(t) for t in x.dtypes]\n",
    "    \n",
    "    mi_scores = mutual_info_classif(x, y, discrete_features=discrete_features, random_state=0)\n",
    "    mi_scores = pd.Series(mi_scores, name=\"MI Scores\", index=X.columns)\n",
    "    mi_scores = mi_scores.sort_values(ascending=False)\n",
    "    return mi_scores\n",
    "\n",
    "\n",
    "def plot_mi_scores(scores):\n",
    "    scores = scores.sort_values(ascending=True)\n",
    "    width = np.arange(len(scores))\n",
    "    ticks = list(scores.index)\n",
    "    plt.barh(width, scores)\n",
    "    plt.yticks(width, ticks)"
   ]
  },
  {
   "cell_type": "code",
   "execution_count": 17,
   "id": "7322c142",
   "metadata": {
    "execution": {
     "iopub.execute_input": "2023-10-18T15:39:29.250638Z",
     "iopub.status.busy": "2023-10-18T15:39:29.249624Z",
     "iopub.status.idle": "2023-10-18T15:39:29.631254Z",
     "shell.execute_reply": "2023-10-18T15:39:29.629681Z"
    },
    "papermill": {
     "duration": 0.438086,
     "end_time": "2023-10-18T15:39:29.633659",
     "exception": false,
     "start_time": "2023-10-18T15:39:29.195573",
     "status": "completed"
    },
    "tags": []
   },
   "outputs": [
    {
     "data": {
      "image/png": "[encoded data removed]",
      "text/plain": [
       "<Figure size 640x480 with 1 Axes>"
      ]
     },
     "metadata": {},
     "output_type": "display_data"
    }
   ],
   "source": [
    "mi_scores = make_mi_scores(X, y)\n",
    "plot_mi_scores(mi_scores)"
   ]
  },
  {
   "cell_type": "markdown",
   "id": "dbaa7aad",
   "metadata": {
    "papermill": {
     "duration": 0.046954,
     "end_time": "2023-10-18T15:39:29.732120",
     "exception": false,
     "start_time": "2023-10-18T15:39:29.685166",
     "status": "completed"
    },
    "tags": []
   },
   "source": [
    "### Models\n",
    "We will test several models:"
   ]
  },
  {
   "cell_type": "code",
   "execution_count": 18,
   "id": "691f7ffd",
   "metadata": {
    "execution": {
     "iopub.execute_input": "2023-10-18T15:39:29.827363Z",
     "iopub.status.busy": "2023-10-18T15:39:29.826781Z",
     "iopub.status.idle": "2023-10-18T15:39:32.187060Z",
     "shell.execute_reply": "2023-10-18T15:39:32.185630Z"
    },
    "papermill": {
     "duration": 2.412256,
     "end_time": "2023-10-18T15:39:32.190461",
     "exception": false,
     "start_time": "2023-10-18T15:39:29.778205",
     "status": "completed"
    },
    "tags": []
   },
   "outputs": [],
   "source": [
    "from sklearn.metrics import balanced_accuracy_score\n",
    "from sklearn.model_selection import cross_val_score\n",
    "\n",
    "from xgboost import XGBClassifier, plot_importance\n",
    "from sklearn.ensemble import RandomForestClassifier\n",
    "from lightgbm import LGBMClassifier\n",
    "from catboost import CatBoostClassifier\n",
    "\n",
    "\n",
    "def score_models(x, y, models: dict, scoring='precision'):\n",
    "\n",
    "    scores = {}\n",
    "    \n",
    "    for name, model in models.items():\n",
    "        score = score_dataset(x, y, model, scoring)\n",
    "        scores[name] = score\n",
    "    \n",
    "    return scores\n",
    "        \n",
    "def score_dataset(x, y, model, scoring='precision'):\n",
    "\n",
    "    for colname in x.select_dtypes(['category', 'object']):\n",
    "        x[colname], _ = x[colname].factorize()\n",
    "\n",
    "    score = cross_val_score(\n",
    "        model, x, y, cv=5, scoring=scoring,\n",
    "    )\n",
    "\n",
    "    score = score.mean()\n",
    "    return score"
   ]
  },
  {
   "cell_type": "markdown",
   "id": "d6ddadf5",
   "metadata": {
    "papermill": {
     "duration": 0.046516,
     "end_time": "2023-10-18T15:39:32.285204",
     "exception": false,
     "start_time": "2023-10-18T15:39:32.238688",
     "status": "completed"
    },
    "tags": []
   },
   "source": [
    "Baseline with all the features:"
   ]
  },
  {
   "cell_type": "code",
   "execution_count": 19,
   "id": "425487a5",
   "metadata": {
    "execution": {
     "iopub.execute_input": "2023-10-18T15:39:32.385425Z",
     "iopub.status.busy": "2023-10-18T15:39:32.384266Z",
     "iopub.status.idle": "2023-10-18T15:40:03.704765Z",
     "shell.execute_reply": "2023-10-18T15:40:03.703550Z"
    },
    "papermill": {
     "duration": 31.417,
     "end_time": "2023-10-18T15:40:03.751557",
     "exception": false,
     "start_time": "2023-10-18T15:39:32.334557",
     "status": "completed"
    },
    "tags": []
   },
   "outputs": [
    {
     "name": "stdout",
     "output_type": "stream",
     "text": [
      "[LightGBM] [Info] Number of positive: 1429, number of negative: 4844\n",
      "[LightGBM] [Info] Auto-choosing row-wise multi-threading, the overhead of testing was 0.002234 seconds.\n",
      "You can set `force_row_wise=true` to remove the overhead.\n",
      "And if memory is not enough, you can set `force_col_wise=true`.\n",
      "[LightGBM] [Info] Total Bins 697\n",
      "[LightGBM] [Info] Number of data points in the train set: 6273, number of used features: 15\n",
      "[LightGBM] [Info] [binary:BoostFromScore]: pavg=0.227802 -> initscore=-1.220766\n",
      "[LightGBM] [Info] Start training from score -1.220766\n",
      "[LightGBM] [Info] Number of positive: 1428, number of negative: 4845\n",
      "[LightGBM] [Info] Auto-choosing row-wise multi-threading, the overhead of testing was 0.002063 seconds.\n",
      "You can set `force_row_wise=true` to remove the overhead.\n",
      "And if memory is not enough, you can set `force_col_wise=true`.\n",
      "[LightGBM] [Info] Total Bins 696\n",
      "[LightGBM] [Info] Number of data points in the train set: 6273, number of used features: 15\n",
      "[LightGBM] [Info] [binary:BoostFromScore]: pavg=0.227642 -> initscore=-1.221672\n",
      "[LightGBM] [Info] Start training from score -1.221672\n",
      "[LightGBM] [Info] Number of positive: 1429, number of negative: 4845\n",
      "[LightGBM] [Info] Auto-choosing row-wise multi-threading, the overhead of testing was 0.002057 seconds.\n",
      "You can set `force_row_wise=true` to remove the overhead.\n",
      "And if memory is not enough, you can set `force_col_wise=true`.\n",
      "[LightGBM] [Info] Total Bins 697\n",
      "[LightGBM] [Info] Number of data points in the train set: 6274, number of used features: 15\n",
      "[LightGBM] [Info] [binary:BoostFromScore]: pavg=0.227765 -> initscore=-1.220972\n",
      "[LightGBM] [Info] Start training from score -1.220972\n",
      "[LightGBM] [Info] Number of positive: 1429, number of negative: 4845\n",
      "[LightGBM] [Info] Auto-choosing row-wise multi-threading, the overhead of testing was 0.002138 seconds.\n",
      "You can set `force_row_wise=true` to remove the overhead.\n",
      "And if memory is not enough, you can set `force_col_wise=true`.\n",
      "[LightGBM] [Info] Total Bins 696\n",
      "[LightGBM] [Info] Number of data points in the train set: 6274, number of used features: 15\n",
      "[LightGBM] [Info] [binary:BoostFromScore]: pavg=0.227765 -> initscore=-1.220972\n",
      "[LightGBM] [Info] Start training from score -1.220972\n",
      "[LightGBM] [Info] Number of positive: 1429, number of negative: 4845\n",
      "[LightGBM] [Info] Auto-choosing row-wise multi-threading, the overhead of testing was 0.004062 seconds.\n",
      "You can set `force_row_wise=true` to remove the overhead.\n",
      "And if memory is not enough, you can set `force_col_wise=true`.\n",
      "[LightGBM] [Info] Total Bins 690\n",
      "[LightGBM] [Info] Number of data points in the train set: 6274, number of used features: 15\n",
      "[LightGBM] [Info] [binary:BoostFromScore]: pavg=0.227765 -> initscore=-1.220972\n",
      "[LightGBM] [Info] Start training from score -1.220972\n"
     ]
    },
    {
     "data": {
      "text/plain": [
       "{'RandomForestClassifier': 0.24906690578404653,\n",
       " 'XGBClassifier': 0.12805670565235577,\n",
       " 'LGBMClassifier': 0.13828375365714685,\n",
       " 'CatBoostClassifier': 0.12805006036800406}"
      ]
     },
     "execution_count": 19,
     "metadata": {},
     "output_type": "execute_result"
    }
   ],
   "source": [
    "models = {\n",
    "    'RandomForestClassifier': RandomForestClassifier(random_state=RANDOM_STATE),\n",
    "    'XGBClassifier': XGBClassifier(random_state=RANDOM_STATE),\n",
    "    'LGBMClassifier': LGBMClassifier(random_state=RANDOM_STATE),\n",
    "    'CatBoostClassifier': CatBoostClassifier(verbose=False, random_state=RANDOM_STATE),\n",
    "}\n",
    "score_models(X, y, models)"
   ]
  },
  {
   "cell_type": "markdown",
   "id": "35bb498d",
   "metadata": {
    "papermill": {
     "duration": 0.04415,
     "end_time": "2023-10-18T15:40:03.840919",
     "exception": false,
     "start_time": "2023-10-18T15:40:03.796769",
     "status": "completed"
    },
    "tags": []
   },
   "source": [
    "Models with features by mutual information score (see above):"
   ]
  },
  {
   "cell_type": "code",
   "execution_count": 20,
   "id": "de2dc3a5",
   "metadata": {
    "execution": {
     "iopub.execute_input": "2023-10-18T15:40:03.934913Z",
     "iopub.status.busy": "2023-10-18T15:40:03.933836Z",
     "iopub.status.idle": "2023-10-18T15:40:30.979780Z",
     "shell.execute_reply": "2023-10-18T15:40:30.978298Z"
    },
    "papermill": {
     "duration": 27.096214,
     "end_time": "2023-10-18T15:40:30.982117",
     "exception": false,
     "start_time": "2023-10-18T15:40:03.885903",
     "status": "completed"
    },
    "tags": []
   },
   "outputs": [
    {
     "name": "stdout",
     "output_type": "stream",
     "text": [
      "[LightGBM] [Info] Number of positive: 1429, number of negative: 4844\n",
      "[LightGBM] [Info] Auto-choosing col-wise multi-threading, the overhead of testing was 0.000885 seconds.\n",
      "You can set `force_col_wise=true` to remove the overhead.\n",
      "[LightGBM] [Info] Total Bins 513\n",
      "[LightGBM] [Info] Number of data points in the train set: 6273, number of used features: 3\n",
      "[LightGBM] [Info] [binary:BoostFromScore]: pavg=0.227802 -> initscore=-1.220766\n",
      "[LightGBM] [Info] Start training from score -1.220766\n",
      "[LightGBM] [Info] Number of positive: 1428, number of negative: 4845\n",
      "[LightGBM] [Info] Auto-choosing col-wise multi-threading, the overhead of testing was 0.000907 seconds.\n",
      "You can set `force_col_wise=true` to remove the overhead.\n",
      "[LightGBM] [Info] Total Bins 513\n",
      "[LightGBM] [Info] Number of data points in the train set: 6273, number of used features: 3\n",
      "[LightGBM] [Info] [binary:BoostFromScore]: pavg=0.227642 -> initscore=-1.221672\n",
      "[LightGBM] [Info] Start training from score -1.221672\n",
      "[LightGBM] [Info] Number of positive: 1429, number of negative: 4845\n",
      "[LightGBM] [Info] Auto-choosing col-wise multi-threading, the overhead of testing was 0.000854 seconds.\n",
      "You can set `force_col_wise=true` to remove the overhead.\n",
      "[LightGBM] [Info] Total Bins 513\n",
      "[LightGBM] [Info] Number of data points in the train set: 6274, number of used features: 3\n",
      "[LightGBM] [Info] [binary:BoostFromScore]: pavg=0.227765 -> initscore=-1.220972\n",
      "[LightGBM] [Info] Start training from score -1.220972\n",
      "[LightGBM] [Info] Number of positive: 1429, number of negative: 4845\n",
      "[LightGBM] [Info] Auto-choosing col-wise multi-threading, the overhead of testing was 0.000522 seconds.\n",
      "You can set `force_col_wise=true` to remove the overhead.\n",
      "[LightGBM] [Info] Total Bins 513\n",
      "[LightGBM] [Info] Number of data points in the train set: 6274, number of used features: 3\n",
      "[LightGBM] [Info] [binary:BoostFromScore]: pavg=0.227765 -> initscore=-1.220972\n",
      "[LightGBM] [Info] Start training from score -1.220972\n",
      "[LightGBM] [Info] Number of positive: 1429, number of negative: 4845\n",
      "[LightGBM] [Info] Auto-choosing col-wise multi-threading, the overhead of testing was 0.000471 seconds.\n",
      "You can set `force_col_wise=true` to remove the overhead.\n",
      "[LightGBM] [Info] Total Bins 513\n",
      "[LightGBM] [Info] Number of data points in the train set: 6274, number of used features: 3\n",
      "[LightGBM] [Info] [binary:BoostFromScore]: pavg=0.227765 -> initscore=-1.220972\n",
      "[LightGBM] [Info] Start training from score -1.220972\n"
     ]
    },
    {
     "data": {
      "text/plain": [
       "{'RandomForestClassifier': 0.48571768655042896,\n",
       " 'XGBClassifier': 0.5490159964170044,\n",
       " 'LGBMClassifier': 0.5990716208569549,\n",
       " 'CatBoostClassifier': 0.611483247914965}"
      ]
     },
     "execution_count": 20,
     "metadata": {},
     "output_type": "execute_result"
    }
   ],
   "source": [
    "score_models(X[['balance', 'pdays', 'poutcome']], y, models)"
   ]
  },
  {
   "cell_type": "markdown",
   "id": "16c7fb5a",
   "metadata": {
    "papermill": {
     "duration": 0.045081,
     "end_time": "2023-10-18T15:40:31.073820",
     "exception": false,
     "start_time": "2023-10-18T15:40:31.028739",
     "status": "completed"
    },
    "tags": []
   },
   "source": [
    "We can see that the basic CatBoostClassifier model is doing the best so far. Let's apply the permutation importance method for this model.We can see that the basic CatBoostClassifier model is doing the best so far. Let's apply the permutation importance method for this model:"
   ]
  },
  {
   "cell_type": "code",
   "execution_count": 21,
   "id": "96d3e390",
   "metadata": {
    "execution": {
     "iopub.execute_input": "2023-10-18T15:40:46.877587Z",
     "iopub.status.busy": "2023-10-18T15:40:46.876292Z",
     "iopub.status.idle": "2023-10-18T15:41:12.259685Z",
     "shell.execute_reply": "2023-10-18T15:41:12.258288Z"
    },
    "papermill": {
     "duration": 25.435275,
     "end_time": "2023-10-18T15:41:12.262085",
     "exception": false,
     "start_time": "2023-10-18T15:40:46.826810",
     "status": "completed"
    },
    "tags": []
   },
   "outputs": [
    {
     "name": "stdout",
     "output_type": "stream",
     "text": [
      "[LightGBM] [Info] Number of positive: 1429, number of negative: 4844\n",
      "[LightGBM] [Info] Auto-choosing col-wise multi-threading, the overhead of testing was 0.001309 seconds.\n",
      "You can set `force_col_wise=true` to remove the overhead.\n",
      "[LightGBM] [Info] Total Bins 258\n",
      "[LightGBM] [Info] Number of data points in the train set: 6273, number of used features: 2\n",
      "[LightGBM] [Info] [binary:BoostFromScore]: pavg=0.227802 -> initscore=-1.220766\n",
      "[LightGBM] [Info] Start training from score -1.220766\n",
      "[LightGBM] [Info] Number of positive: 1428, number of negative: 4845\n",
      "[LightGBM] [Info] Auto-choosing col-wise multi-threading, the overhead of testing was 0.002143 seconds.\n",
      "You can set `force_col_wise=true` to remove the overhead.\n",
      "[LightGBM] [Info] Total Bins 258\n",
      "[LightGBM] [Info] Number of data points in the train set: 6273, number of used features: 2\n",
      "[LightGBM] [Info] [binary:BoostFromScore]: pavg=0.227642 -> initscore=-1.221672\n",
      "[LightGBM] [Info] Start training from score -1.221672\n",
      "[LightGBM] [Info] Number of positive: 1429, number of negative: 4845\n",
      "[LightGBM] [Info] Auto-choosing col-wise multi-threading, the overhead of testing was 0.001090 seconds.\n",
      "You can set `force_col_wise=true` to remove the overhead.\n",
      "[LightGBM] [Info] Total Bins 258\n",
      "[LightGBM] [Info] Number of data points in the train set: 6274, number of used features: 2\n",
      "[LightGBM] [Info] [binary:BoostFromScore]: pavg=0.227765 -> initscore=-1.220972\n",
      "[LightGBM] [Info] Start training from score -1.220972\n",
      "[LightGBM] [Info] Number of positive: 1429, number of negative: 4845\n",
      "[LightGBM] [Info] Auto-choosing col-wise multi-threading, the overhead of testing was 0.001092 seconds.\n",
      "You can set `force_col_wise=true` to remove the overhead.\n",
      "[LightGBM] [Info] Total Bins 258\n",
      "[LightGBM] [Info] Number of data points in the train set: 6274, number of used features: 2\n",
      "[LightGBM] [Info] [binary:BoostFromScore]: pavg=0.227765 -> initscore=-1.220972\n",
      "[LightGBM] [Info] Start training from score -1.220972\n",
      "[LightGBM] [Info] Number of positive: 1429, number of negative: 4845\n",
      "[LightGBM] [Info] Auto-choosing col-wise multi-threading, the overhead of testing was 0.001278 seconds.\n",
      "You can set `force_col_wise=true` to remove the overhead.\n",
      "[LightGBM] [Info] Total Bins 258\n",
      "[LightGBM] [Info] Number of data points in the train set: 6274, number of used features: 2\n",
      "[LightGBM] [Info] [binary:BoostFromScore]: pavg=0.227765 -> initscore=-1.220972\n",
      "[LightGBM] [Info] Start training from score -1.220972\n"
     ]
    },
    {
     "data": {
      "text/plain": [
       "{'RandomForestClassifier': 0.47461335724054443,\n",
       " 'XGBClassifier': 0.5925242580212007,\n",
       " 'LGBMClassifier': 0.6152181640700157,\n",
       " 'CatBoostClassifier': 0.6279093372226192}"
      ]
     },
     "execution_count": 21,
     "metadata": {},
     "output_type": "execute_result"
    }
   ],
   "source": [
    "score_models(X[['poutcome', 'pdays']], y, models)"
   ]
  },
  {
   "cell_type": "markdown",
   "id": "50837ea1",
   "metadata": {
    "papermill": {
     "duration": 0.045691,
     "end_time": "2023-10-18T15:41:12.353616",
     "exception": false,
     "start_time": "2023-10-18T15:41:12.307925",
     "status": "completed"
    },
    "tags": []
   },
   "source": [
    "CatBoostClassifier is still the best of all. Let's see what signs he considers important when predicting.CatBoostClassifier is still the best of all. Let's see what signs he considers important when predicting."
   ]
  },
  {
   "cell_type": "code",
   "execution_count": 22,
   "id": "54ab59b8",
   "metadata": {
    "execution": {
     "iopub.execute_input": "2023-10-18T15:41:12.448031Z",
     "iopub.status.busy": "2023-10-18T15:41:12.447139Z",
     "iopub.status.idle": "2023-10-18T15:41:17.016615Z",
     "shell.execute_reply": "2023-10-18T15:41:17.015658Z"
    },
    "papermill": {
     "duration": 4.619313,
     "end_time": "2023-10-18T15:41:17.018851",
     "exception": false,
     "start_time": "2023-10-18T15:41:12.399538",
     "status": "completed"
    },
    "scrolled": true,
    "tags": []
   },
   "outputs": [
    {
     "data": {
      "image/png": "[encoded data removed]",
      "text/plain": [
       "<Figure size 800x400 with 1 Axes>"
      ]
     },
     "metadata": {},
     "output_type": "display_data"
    }
   ],
   "source": [
    "model = CatBoostClassifier(verbose=False, random_state=RANDOM_STATE)\n",
    "model.fit(X, y)\n",
    "\n",
    "feature_scores = pd.Series(model.feature_importances_, index=X.columns).sort_values(ascending=False)\n",
    "\n",
    "f, ax = plt.subplots(figsize=(8, 4))\n",
    "ax = sns.barplot(x=feature_scores, y=feature_scores.index)\n",
    "ax.set_yticklabels(feature_scores.index)\n",
    "ax.set_xlabel(\"Feature importance score\")\n",
    "ax.set_ylabel(\"Features\")\n",
    "plt.show()"
   ]
  },
  {
   "cell_type": "code",
   "execution_count": null,
   "id": "98b3e89f",
   "metadata": {
    "execution": {
     "iopub.execute_input": "2023-10-18T15:41:17.122688Z",
     "iopub.status.busy": "2023-10-18T15:41:17.121637Z",
     "iopub.status.idle": "2023-10-18T15:41:43.944006Z",
     "shell.execute_reply": "2023-10-18T15:41:43.942157Z"
    },
    "papermill": {
     "duration": 26.877434,
     "end_time": "2023-10-18T15:41:43.946277",
     "exception": false,
     "start_time": "2023-10-18T15:41:17.068843",
     "status": "completed"
    },
    "tags": []
   },
   "outputs": [
    {
     "name": "stdout",
     "output_type": "stream",
     "text": [
      "[LightGBM] [Info] Number of positive: 1429, number of negative: 4844\n",
      "[LightGBM] [Info] Auto-choosing col-wise multi-threading, the overhead of testing was 0.001017 seconds.\n",
      "You can set `force_col_wise=true` to remove the overhead.\n",
      "[LightGBM] [Info] Total Bins 302\n",
      "[LightGBM] [Info] Number of data points in the train set: 6273, number of used features: 4\n",
      "[LightGBM] [Info] [binary:BoostFromScore]: pavg=0.227802 -> initscore=-1.220766\n",
      "[LightGBM] [Info] Start training from score -1.220766\n",
      "[LightGBM] [Info] Number of positive: 1428, number of negative: 4845\n",
      "[LightGBM] [Info] Auto-choosing col-wise multi-threading, the overhead of testing was 0.001027 seconds.\n",
      "You can set `force_col_wise=true` to remove the overhead.\n",
      "[LightGBM] [Info] Total Bins 302\n",
      "[LightGBM] [Info] Number of data points in the train set: 6273, number of used features: 4\n",
      "[LightGBM] [Info] [binary:BoostFromScore]: pavg=0.227642 -> initscore=-1.221672\n",
      "[LightGBM] [Info] Start training from score -1.221672\n",
      "[LightGBM] [Info] Number of positive: 1429, number of negative: 4845\n",
      "[LightGBM] [Info] Auto-choosing col-wise multi-threading, the overhead of testing was 0.001129 seconds.\n",
      "You can set `force_col_wise=true` to remove the overhead.\n",
      "[LightGBM] [Info] Total Bins 302\n",
      "[LightGBM] [Info] Number of data points in the train set: 6274, number of used features: 4\n",
      "[LightGBM] [Info] [binary:BoostFromScore]: pavg=0.227765 -> initscore=-1.220972\n",
      "[LightGBM] [Info] Start training from score -1.220972\n",
      "[LightGBM] [Info] Number of positive: 1429, number of negative: 4845\n",
      "[LightGBM] [Info] Auto-choosing col-wise multi-threading, the overhead of testing was 0.000970 seconds.\n",
      "You can set `force_col_wise=true` to remove the overhead.\n",
      "[LightGBM] [Info] Total Bins 302\n",
      "[LightGBM] [Info] Number of data points in the train set: 6274, number of used features: 4\n",
      "[LightGBM] [Info] [binary:BoostFromScore]: pavg=0.227765 -> initscore=-1.220972\n",
      "[LightGBM] [Info] Start training from score -1.220972\n",
      "[LightGBM] [Info] Number of positive: 1429, number of negative: 4845\n",
      "[LightGBM] [Info] Auto-choosing col-wise multi-threading, the overhead of testing was 0.001165 seconds.\n",
      "You can set `force_col_wise=true` to remove the overhead.\n",
      "[LightGBM] [Info] Total Bins 302\n",
      "[LightGBM] [Info] Number of data points in the train set: 6274, number of used features: 4\n",
      "[LightGBM] [Info] [binary:BoostFromScore]: pavg=0.227765 -> initscore=-1.220972\n",
      "[LightGBM] [Info] Start training from score -1.220972\n"
     ]
    }
   ],
   "source": [
    "score_models(X[['pdays', 'month', 'poutcome', 'day']], y, models)"
   ]
  },
  {
   "cell_type": "markdown",
   "id": "a93a96a5",
   "metadata": {
    "papermill": {
     "duration": 0.055551,
     "end_time": "2023-10-18T15:41:44.048677",
     "exception": false,
     "start_time": "2023-10-18T15:41:43.993126",
     "status": "completed"
    },
    "tags": []
   },
   "source": [
    "Hmmm... It looks strange, don't you agree?"
   ]
  },
  {
   "cell_type": "markdown",
   "id": "efe42d4b",
   "metadata": {
    "papermill": {
     "duration": 0.046385,
     "end_time": "2023-10-18T15:41:44.140913",
     "exception": false,
     "start_time": "2023-10-18T15:41:44.094528",
     "status": "completed"
    },
    "tags": []
   },
   "source": [
    "Let's try to experiment on our own, based on the graph above.Let's try to experiment on our own, based on the graph above."
   ]
  },
  {
   "cell_type": "code",
   "execution_count": null,
   "id": "1aa627d6",
   "metadata": {
    "execution": {
     "iopub.execute_input": "2023-10-18T15:41:44.237798Z",
     "iopub.status.busy": "2023-10-18T15:41:44.237403Z",
     "iopub.status.idle": "2023-10-18T15:42:09.314665Z",
     "shell.execute_reply": "2023-10-18T15:42:09.313225Z"
    },
    "papermill": {
     "duration": 25.130015,
     "end_time": "2023-10-18T15:42:09.317616",
     "exception": false,
     "start_time": "2023-10-18T15:41:44.187601",
     "status": "completed"
    },
    "tags": []
   },
   "outputs": [],
   "source": [
    "score_models(X[['pdays']], y, models)"
   ]
  },
  {
   "cell_type": "code",
   "execution_count": null,
   "id": "b32b9a69",
   "metadata": {
    "execution": {
     "iopub.execute_input": "2023-10-18T15:42:09.416792Z",
     "iopub.status.busy": "2023-10-18T15:42:09.416363Z",
     "iopub.status.idle": "2023-10-18T15:42:25.651299Z",
     "shell.execute_reply": "2023-10-18T15:42:25.649703Z"
    },
    "papermill": {
     "duration": 16.288091,
     "end_time": "2023-10-18T15:42:25.654396",
     "exception": false,
     "start_time": "2023-10-18T15:42:09.366305",
     "status": "completed"
    },
    "tags": []
   },
   "outputs": [],
   "source": [
    "score_models(X[['month']], y, models)"
   ]
  },
  {
   "cell_type": "code",
   "execution_count": null,
   "id": "e39bd400",
   "metadata": {
    "execution": {
     "iopub.execute_input": "2023-10-18T15:42:25.753989Z",
     "iopub.status.busy": "2023-10-18T15:42:25.753239Z",
     "iopub.status.idle": "2023-10-18T15:42:37.153930Z",
     "shell.execute_reply": "2023-10-18T15:42:37.152593Z"
    },
    "papermill": {
     "duration": 11.457374,
     "end_time": "2023-10-18T15:42:37.158544",
     "exception": false,
     "start_time": "2023-10-18T15:42:25.701170",
     "status": "completed"
    },
    "tags": []
   },
   "outputs": [],
   "source": [
    "score_models(X[['poutcome']], y, models)"
   ]
  },
  {
   "cell_type": "markdown",
   "id": "ae946c59",
   "metadata": {
    "papermill": {
     "duration": 0.049796,
     "end_time": "2023-10-18T15:42:37.275744",
     "exception": false,
     "start_time": "2023-10-18T15:42:37.225948",
     "status": "completed"
    },
    "tags": []
   },
   "source": [
    "Wow! If we train models on one feature of `poutcome`, then we get the best quality!"
   ]
  },
  {
   "cell_type": "markdown",
   "id": "d0f542a5",
   "metadata": {
    "papermill": {
     "duration": 0.046788,
     "end_time": "2023-10-18T15:42:37.370321",
     "exception": false,
     "start_time": "2023-10-18T15:42:37.323533",
     "status": "completed"
    },
    "tags": []
   },
   "source": [
    "Let's try something else:"
   ]
  },
  {
   "cell_type": "code",
   "execution_count": null,
   "id": "fe6b41de",
   "metadata": {
    "execution": {
     "iopub.execute_input": "2023-10-18T15:42:37.469655Z",
     "iopub.status.busy": "2023-10-18T15:42:37.469121Z",
     "iopub.status.idle": "2023-10-18T15:42:57.490321Z",
     "shell.execute_reply": "2023-10-18T15:42:57.488714Z"
    },
    "papermill": {
     "duration": 20.073473,
     "end_time": "2023-10-18T15:42:57.492817",
     "exception": false,
     "start_time": "2023-10-18T15:42:37.419344",
     "status": "completed"
    },
    "tags": []
   },
   "outputs": [],
   "source": [
    "score_models(X[['poutcome', 'month']], y, models)"
   ]
  },
  {
   "cell_type": "code",
   "execution_count": null,
   "id": "6b9c477e",
   "metadata": {
    "execution": {
     "iopub.execute_input": "2023-10-18T15:42:57.592368Z",
     "iopub.status.busy": "2023-10-18T15:42:57.591553Z",
     "iopub.status.idle": "2023-10-18T15:43:19.633079Z",
     "shell.execute_reply": "2023-10-18T15:43:19.631466Z"
    },
    "papermill": {
     "duration": 22.095768,
     "end_time": "2023-10-18T15:43:19.635641",
     "exception": false,
     "start_time": "2023-10-18T15:42:57.539873",
     "status": "completed"
    },
    "tags": []
   },
   "outputs": [],
   "source": [
    "score_models(X[['poutcome', 'day']], y, models)"
   ]
  },
  {
   "cell_type": "code",
   "execution_count": null,
   "id": "970a14e1",
   "metadata": {
    "execution": {
     "iopub.execute_input": "2023-10-18T15:43:19.737091Z",
     "iopub.status.busy": "2023-10-18T15:43:19.736036Z",
     "iopub.status.idle": "2023-10-18T15:43:48.005708Z",
     "shell.execute_reply": "2023-10-18T15:43:48.003059Z"
    },
    "papermill": {
     "duration": 28.324396,
     "end_time": "2023-10-18T15:43:48.009866",
     "exception": false,
     "start_time": "2023-10-18T15:43:19.685470",
     "status": "completed"
    },
    "tags": []
   },
   "outputs": [],
   "source": [
    "score_models(X[['poutcome', 'balance']], y, models)"
   ]
  },
  {
   "cell_type": "code",
   "execution_count": null,
   "id": "795fa600",
   "metadata": {
    "execution": {
     "iopub.execute_input": "2023-10-18T15:43:48.109759Z",
     "iopub.status.busy": "2023-10-18T15:43:48.108859Z",
     "iopub.status.idle": "2023-10-18T15:44:10.893044Z",
     "shell.execute_reply": "2023-10-18T15:44:10.891814Z"
    },
    "papermill": {
     "duration": 22.835948,
     "end_time": "2023-10-18T15:44:10.895397",
     "exception": false,
     "start_time": "2023-10-18T15:43:48.059449",
     "status": "completed"
    },
    "tags": []
   },
   "outputs": [],
   "source": [
    "score_models(X[['poutcome', 'age']], y, models)"
   ]
  },
  {
   "cell_type": "markdown",
   "id": "37b7b09d",
   "metadata": {
    "papermill": {
     "duration": 0.048364,
     "end_time": "2023-10-18T15:44:10.991360",
     "exception": false,
     "start_time": "2023-10-18T15:44:10.942996",
     "status": "completed"
    },
    "tags": []
   },
   "source": [
    "Okay, it seems there won't be a combination of the best one sign of `poutcome' anymore."
   ]
  },
  {
   "cell_type": "code",
   "execution_count": null,
   "id": "d835c556",
   "metadata": {},
   "outputs": [],
   "source": [
    "xtrain,xtest,ytrain,ytest=train_test_split(X,y,random_state=200,test_size=0.2,stratify=y)\n",
    "#Scaling the data for model efficiency\n",
    "from sklearn.preprocessing import StandardScaler #Importing library\n",
    "ss=StandardScaler() #Creating an object\n",
    "ss.fit(xtrain) #Fitting train data\n",
    "xtrain=ss.transform(xtrain) #Transforming train data\n",
    "xtest=ss.transform(xtest) #Transforming test data\n"
   ]
  },
  {
   "cell_type": "code",
   "execution_count": null,
   "id": "91c69b5f",
   "metadata": {},
   "outputs": [],
   "source": [
    "from sklearn.model_selection import train_test_split\n",
    "\n",
    "xtrain,xtest,ytrain,ytest=train_test_split(X,y,random_state=200,test_size=0.2,stratify=y)"
   ]
  },
  {
   "cell_type": "code",
   "execution_count": null,
   "id": "5ac90d45",
   "metadata": {},
   "outputs": [],
   "source": [
    "print(\"Training data shapes:\", xtrain.shape, ytrain.shape)\n",
    "print(\"Testing data shapes:\", xtest.shape, ytest.shape)\n"
   ]
  },
  {
   "cell_type": "code",
   "execution_count": null,
   "id": "1d2365b3",
   "metadata": {},
   "outputs": [],
   "source": [
    "from sklearn.ensemble import RandomForestClassifier\n",
    "from sklearn.linear_model import LogisticRegression\n",
    "from sklearn.svm import SVC\n",
    "\n",
    "from xgboost import XGBClassifier\n",
    "from lightgbm import LGBMClassifier\n",
    "from catboost import CatBoostClassifier\n",
    "from sklearn.metrics import accuracy_score,confusion_matrix,classification_report,roc_auc_score,roc_curve\n",
    "\n",
    "    \n",
    "def create_model(algo):\n",
    "    model_mapping = {\n",
    "        \"XGBClassifier\": XGBClassifier,\n",
    "        \"LGBMClassifier\": LGBMClassifier,\n",
    "        \"CatBoostClassifier\": CatBoostClassifier,\n",
    "        \"randomforest\":RandomForestClassifier,\n",
    "        \"logistic\":LogisticRegression,\n",
    "        \"svc\":SVC\n",
    "    }\n",
    "\n",
    "    if algo in model_mapping:\n",
    "        return model_mapping[algo]()\n",
    "    else:\n",
    "        raise ValueError(f\"Unsupported algorithm: {algo}\")\n",
    "\n",
    "algo = [\"XGBClassifier\", \"LGBMClassifier\", \"CatBoostClassifier\",\"randomforest\",\"logistic\",\"svc\"]\n",
    "accuracy=[]\n",
    "names=[]\n",
    "accuracy_scores=[]\n",
    "for i in algo:\n",
    "    model_name = f\"{i}model\"\n",
    "    names.append(model_name)\n",
    "    model= create_model(i)\n",
    "    model.fit(xtrain,ytrain)\n",
    "    ypred=model.predict(xtest)\n",
    "    accuracy.append(accuracy_score(ytest, ypred))\n",
    "    accuracy_scores.append((model_name,accuracy_score(ytest, ypred)))      \n",
    "    train_score=model.score(xtrain,ytrain)\n",
    "    test_score=model.score(xtest,ytest)\n",
    "    cm=confusion_matrix(ytest,ypred)\n",
    "    cr=classification_report(ytest,ypred)\n",
    "    ac=accuracy_score(ytest,ypred)\n",
    "    roc_auc=roc_auc_score(ytest,ypred)\n",
    "    fpr,tpr,threshold=roc_curve(ytest,ypred)\n",
    "    plt.plot(fpr,tpr,label=model)\n",
    "    print(f'Model:{model}\\nTraining Score: {train_score}\\nTesting Score: {test_score}\\nConfusion Matrix: \\n{cm}\\\n",
    "    \\nClassification_report\\n{cr}\\nAccuracy Score: {ac}\\nROC_AUC_Score: {roc_auc}\\nFalsePositiveRate: {fpr}')\n",
    "    print()"
   ]
  },
  {
   "cell_type": "code",
   "execution_count": null,
   "id": "79e7f1f1",
   "metadata": {},
   "outputs": [],
   "source": [
    "for i in accuracy_scores:    \n",
    "    print(f\"Accuracy Score of {i}\")"
   ]
  },
  {
   "cell_type": "code",
   "execution_count": null,
   "id": "26f9ef3f",
   "metadata": {},
   "outputs": [],
   "source": [
    "df_accuracy = pd.DataFrame({'Model': [item for item in names], 'Accuracy Score': [item for item in accuracy]})\n",
    "plt.figure(figsize=(8,8))\n",
    "sns.scatterplot(x=\"Model\", y=\"Accuracy Score\", data=df_accuracy, hue='Model', palette='viridis')\n",
    "plt.title('Scatter Plot of Accuracy Scores for Different Models')\n",
    "plt.xticks(rotation=45)\n",
    "plt.tight_layout()\n",
    "plt.show()\n",
    "plt.savefig(\"accuracy_score.png\")\n"
   ]
  },
  {
   "cell_type": "code",
   "execution_count": null,
   "id": "fcf89131",
   "metadata": {},
   "outputs": [],
   "source": []
  },
  {
   "cell_type": "markdown",
   "id": "aae4e17d",
   "metadata": {
    "papermill": {
     "duration": 0.048993,
     "end_time": "2023-10-18T15:44:11.089098",
     "exception": false,
     "start_time": "2023-10-18T15:44:11.040105",
     "status": "completed"
    },
    "tags": []
   },
   "source": [
    "### Сonfusion matrix "
   ]
  },
  {
   "cell_type": "markdown",
   "id": "bfb8d740",
   "metadata": {
    "papermill": {
     "duration": 0.046511,
     "end_time": "2023-10-18T15:44:11.183293",
     "exception": false,
     "start_time": "2023-10-18T15:44:11.136782",
     "status": "completed"
    },
    "tags": []
   },
   "source": [
    "On average, CatBoostClassifier showed better results than other models. Therefore, only this model will be used further."
   ]
  },
  {
   "cell_type": "code",
   "execution_count": null,
   "id": "17000af3",
   "metadata": {
    "execution": {
     "iopub.execute_input": "2023-10-18T15:44:11.284673Z",
     "iopub.status.busy": "2023-10-18T15:44:11.283828Z",
     "iopub.status.idle": "2023-10-18T15:44:11.291748Z",
     "shell.execute_reply": "2023-10-18T15:44:11.290624Z"
    },
    "papermill": {
     "duration": 0.062606,
     "end_time": "2023-10-18T15:44:11.294677",
     "exception": false,
     "start_time": "2023-10-18T15:44:11.232071",
     "status": "completed"
    },
    "tags": []
   },
   "outputs": [],
   "source": [
    "from sklearn.metrics import confusion_matrix\n",
    "\n",
    "def create_confusion_matrix(x, y, model):\n",
    "    \n",
    "    X_train, X_test, y_train, y_test = train_test_split(x, y, test_size=0.2, random_state=42)\n",
    "\n",
    "    model.fit(X_train, y_train)\n",
    "    y_pred = model.predict(X_test)\n",
    "\n",
    "    cf_matrix = confusion_matrix(y_test, y_pred)\n",
    "\n",
    "    plt.figure(figsize = (4,4))\n",
    "    b = sns.heatmap(cf_matrix, annot=True, fmt='g')\n",
    "    b.set(title='Confusion Matrix')\n",
    "    b.set(xlabel='Predicted', ylabel='Actual')\n",
    "    plt.show()"
   ]
  },
  {
   "cell_type": "code",
   "execution_count": null,
   "id": "773184b3",
   "metadata": {
    "execution": {
     "iopub.execute_input": "2023-10-18T15:44:11.392586Z",
     "iopub.status.busy": "2023-10-18T15:44:11.391687Z",
     "iopub.status.idle": "2023-10-18T15:44:13.490798Z",
     "shell.execute_reply": "2023-10-18T15:44:13.489423Z"
    },
    "papermill": {
     "duration": 2.151259,
     "end_time": "2023-10-18T15:44:13.493783",
     "exception": false,
     "start_time": "2023-10-18T15:44:11.342524",
     "status": "completed"
    },
    "tags": []
   },
   "outputs": [],
   "source": [
    "create_confusion_matrix(X[['poutcome']], y, CatBoostClassifier(verbose=False, random_state=RANDOM_STATE))"
   ]
  },
  {
   "cell_type": "markdown",
   "id": "bdcd36fd",
   "metadata": {
    "papermill": {
     "duration": 0.048282,
     "end_time": "2023-10-18T15:44:13.593482",
     "exception": false,
     "start_time": "2023-10-18T15:44:13.545200",
     "status": "completed"
    },
    "tags": []
   },
   "source": [
    "### Fine-tuning CatBoostClassifier with Optuna"
   ]
  },
  {
   "cell_type": "markdown",
   "id": "febd20f2",
   "metadata": {
    "papermill": {
     "duration": 0.051017,
     "end_time": "2023-10-18T15:44:13.701966",
     "exception": false,
     "start_time": "2023-10-18T15:44:13.650949",
     "status": "completed"
    },
    "tags": []
   },
   "source": [
    "Fitting a model for a single `poutcome` attribute is pointless, because the result will be the same everywhere. I checked it behind the scenes, believe me :)"
   ]
  },
  {
   "cell_type": "markdown",
   "id": "0ce8a3f3",
   "metadata": {
    "papermill": {
     "duration": 0.054344,
     "end_time": "2023-10-18T15:44:13.808241",
     "exception": false,
     "start_time": "2023-10-18T15:44:13.753897",
     "status": "completed"
    },
    "tags": []
   },
   "source": [
    "Let's try to select parameters for a complete dataset:"
   ]
  },
  {
   "cell_type": "code",
   "execution_count": null,
   "id": "c48eb90e",
   "metadata": {
    "execution": {
     "iopub.execute_input": "2023-10-18T15:44:13.909493Z",
     "iopub.status.busy": "2023-10-18T15:44:13.909005Z",
     "iopub.status.idle": "2023-10-18T16:15:00.270655Z",
     "shell.execute_reply": "2023-10-18T16:15:00.268838Z"
    },
    "papermill": {
     "duration": 1846.460857,
     "end_time": "2023-10-18T16:15:00.318503",
     "exception": false,
     "start_time": "2023-10-18T15:44:13.857646",
     "status": "completed"
    },
    "tags": []
   },
   "outputs": [],
   "source": [
    "import optuna\n",
    "\n",
    "\n",
    "def objective(trial):\n",
    "    params = {\n",
    "        \"iterations\": trial.suggest_int(\"iterations\", 900, 1100),\n",
    "        \"learning_rate\": trial.suggest_float(\"learning_rate\", 1e-3, 0.1, log=True),\n",
    "        \"depth\": trial.suggest_int(\"depth\", 1, 10),\n",
    "        \"subsample\": trial.suggest_float(\"subsample\", 0.05, 1.0),\n",
    "        \"colsample_bylevel\": trial.suggest_float(\"colsample_bylevel\", 0.05, 1.0),\n",
    "        \"min_data_in_leaf\": trial.suggest_int(\"min_data_in_leaf\", 1, 1100),\n",
    "    }\n",
    "\n",
    "    model = CatBoostClassifier(**params, verbose=False, random_state=RANDOM_STATE)\n",
    "\n",
    "    return score_dataset(X, y, model)\n",
    "\n",
    "\n",
    "study = optuna.create_study(direction='maximize')\n",
    "study.optimize(objective, n_trials=150)\n",
    "\n",
    "print(\"Number of finished trials: \", len(study.trials))\n",
    "print(\"Best trial:\")\n",
    "trial = study.best_trial\n",
    "print(\"  Value: \", trial.value)\n",
    "print(\"  Params: \")\n",
    "for key, value in trial.params.items():\n",
    "    print(\"    {}: {}\".format(key, value))"
   ]
  },
  {
   "cell_type": "markdown",
   "id": "73888e8c",
   "metadata": {
    "papermill": {
     "duration": 0.067137,
     "end_time": "2023-10-18T16:15:00.446959",
     "exception": false,
     "start_time": "2023-10-18T16:15:00.379822",
     "status": "completed"
    },
    "tags": []
   },
   "source": [
    "Wow! I used optuna for the first time and got very good results compared to my previous experiments :) That's why it's recommended everywhere..."
   ]
  },
  {
   "cell_type": "code",
   "execution_count": null,
   "id": "ac794b6d",
   "metadata": {
    "execution": {
     "iopub.execute_input": "2023-10-18T16:15:00.570525Z",
     "iopub.status.busy": "2023-10-18T16:15:00.570044Z",
     "iopub.status.idle": "2023-10-18T16:15:10.872516Z",
     "shell.execute_reply": "2023-10-18T16:15:10.870964Z"
    },
    "papermill": {
     "duration": 10.367585,
     "end_time": "2023-10-18T16:15:10.874731",
     "exception": false,
     "start_time": "2023-10-18T16:15:00.507146",
     "status": "completed"
    },
    "tags": []
   },
   "outputs": [],
   "source": [
    "score_dataset(\n",
    "    X,\n",
    "    y,\n",
    "    CatBoostClassifier(**trial.params, verbose=False, random_state=RANDOM_STATE)\n",
    ")"
   ]
  },
  {
   "cell_type": "markdown",
   "id": "d74ad1fb",
   "metadata": {
    "papermill": {
     "duration": 0.054742,
     "end_time": "2023-10-18T16:15:10.987455",
     "exception": false,
     "start_time": "2023-10-18T16:15:10.932713",
     "status": "completed"
    },
    "tags": []
   },
   "source": [
    "I wonder what signs this model with the hyperparameters found calls the most important?"
   ]
  },
  {
   "cell_type": "code",
   "execution_count": null,
   "id": "a33ac502",
   "metadata": {
    "execution": {
     "iopub.execute_input": "2023-10-18T16:15:11.110046Z",
     "iopub.status.busy": "2023-10-18T16:15:11.108854Z",
     "iopub.status.idle": "2023-10-18T16:15:13.635674Z",
     "shell.execute_reply": "2023-10-18T16:15:13.633692Z"
    },
    "papermill": {
     "duration": 2.588525,
     "end_time": "2023-10-18T16:15:13.638846",
     "exception": false,
     "start_time": "2023-10-18T16:15:11.050321",
     "status": "completed"
    },
    "tags": []
   },
   "outputs": [],
   "source": [
    "model = CatBoostClassifier(**trial.params, verbose=False, random_state=RANDOM_STATE)\n",
    "model.fit(X, y)\n",
    "\n",
    "feature_scores = pd.Series(model.feature_importances_, index=X.columns).sort_values(ascending=False)\n",
    "\n",
    "f, ax = plt.subplots(figsize=(8, 4))\n",
    "ax = sns.barplot(x=feature_scores, y=feature_scores.index)\n",
    "ax.set_yticklabels(feature_scores.index)\n",
    "ax.set_xlabel(\"Feature importance score\")\n",
    "ax.set_ylabel(\"Features\")\n",
    "plt.show()"
   ]
  },
  {
   "cell_type": "markdown",
   "id": "30b6ae01",
   "metadata": {
    "papermill": {
     "duration": 0.058984,
     "end_time": "2023-10-18T16:15:13.758590",
     "exception": false,
     "start_time": "2023-10-18T16:15:13.699606",
     "status": "completed"
    },
    "tags": []
   },
   "source": [
    "Interesting! I didn't consider `housing` before, but it turned out to be important."
   ]
  },
  {
   "cell_type": "code",
   "execution_count": null,
   "id": "d4facd56",
   "metadata": {
    "execution": {
     "iopub.execute_input": "2023-10-18T16:15:13.874399Z",
     "iopub.status.busy": "2023-10-18T16:15:13.873529Z",
     "iopub.status.idle": "2023-10-18T16:15:15.867666Z",
     "shell.execute_reply": "2023-10-18T16:15:15.866570Z"
    },
    "papermill": {
     "duration": 2.05536,
     "end_time": "2023-10-18T16:15:15.870732",
     "exception": false,
     "start_time": "2023-10-18T16:15:13.815372",
     "status": "completed"
    },
    "tags": []
   },
   "outputs": [],
   "source": [
    "create_confusion_matrix(\n",
    "    X,\n",
    "    y,\n",
    "    CatBoostClassifier(**trial.params, verbose=False, random_state=RANDOM_STATE)\n",
    ")"
   ]
  },
  {
   "cell_type": "markdown",
   "id": "634bcae3",
   "metadata": {
    "papermill": {
     "duration": 0.057916,
     "end_time": "2023-10-18T16:15:15.990626",
     "exception": false,
     "start_time": "2023-10-18T16:15:15.932710",
     "status": "completed"
    },
    "tags": []
   },
   "source": [
    "It seems I did the selection of functions in vain, it was possible to start with Optuna, and then make a fit-predict :)"
   ]
  },
  {
   "cell_type": "markdown",
   "id": "dd23db80",
   "metadata": {
    "papermill": {
     "duration": 0.056874,
     "end_time": "2023-10-18T16:15:16.112564",
     "exception": false,
     "start_time": "2023-10-18T16:15:16.055690",
     "status": "completed"
    },
    "tags": []
   },
   "source": [
    "## Conclusion\n",
    "From the experiments carried out, CatBoostClassifier showed good results on the metric `precision` = 0.77\n",
    "\n",
    "What can be improved?\n",
    "- It is worth balancing the classes.\n",
    "- To improve, you need to try the Feature Extraction methods. For example, from the signs `month` and `day`, you can try to identify the day of the week. True, we do not know the year, but definitely some day of the week can be an informative sign for predicting the target.\n",
    "- Also, I did not normalize/standardize numerical features. Maybe it will improve the quality?\n",
    "- Maybe there are better models besides CatBoost? If you know, be sure to write!\n",
    "\n",
    "**Thank you for coming to the end :)**"
   ]
  }
 ],
 "metadata": {
  "kernelspec": {
   "display_name": "Python 3 (ipykernel)",
   "language": "python",
   "name": "python3"
  },
  "language_info": {
   "codemirror_mode": {
    "name": "ipython",
    "version": 3
   },
   "file_extension": ".py",
   "mimetype": "text/x-python",
   "name": "python",
   "nbconvert_exporter": "python",
   "pygments_lexer": "ipython3",
   "version": "3.10.9"
  },
  "papermill": {
   "default_parameters": {},
   "duration": 2210.984609,
   "end_time": "2023-10-18T16:15:19.405391",
   "environment_variables": {},
   "exception": null,
   "input_path": "__notebook__.ipynb",
   "output_path": "__notebook__.ipynb",
   "parameters": {},
   "start_time": "2023-10-18T15:38:28.420782",
   "version": "2.4.0"
  }
 },
 "nbformat": 4,
 "nbformat_minor": 5
}
